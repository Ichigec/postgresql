{
 "cells": [
  {
   "cell_type": "code",
   "execution_count": 10,
   "metadata": {},
   "outputs": [],
   "source": [
    "import psycopg2\n",
    "import pandas as pd\n",
    "from sqlalchemy import create_engine\n",
    "import sql  # the patched version (file is named sql.py)\n",
    "from sqlalchemy import create_engine "
   ]
  },
  {
   "cell_type": "code",
   "execution_count": 38,
   "metadata": {},
   "outputs": [],
   "source": [
    "\n",
    "db1 = psycopg2.connect(dbname='postgres', user='postgres', \n",
    "                        password=' ', host='localhost', port=5432)\n",
    "db = create_engine('postgresql+psycopg2://postgres: @localhost:5432/postgres')\n",
    "sql = db1.cursor()"
   ]
  },
  {
   "cell_type": "code",
   "execution_count": 39,
   "metadata": {},
   "outputs": [],
   "source": [
    "df_trans=pd.read_csv('E:\\Vakansy\\magnit\\shedulers.csv')\n"
   ]
  },
  {
   "cell_type": "code",
   "execution_count": 40,
   "metadata": {},
   "outputs": [],
   "source": [
    "df_trans.to_sql('T_CONTRACTOR_SHERULER', con=db, index=False, if_exists='replace')"
   ]
  },
  {
   "cell_type": "code",
   "execution_count": 41,
   "metadata": {},
   "outputs": [],
   "source": [
    "sql.execute(\"\"\"CREATE TABLE T_CONTRACTOR_SHERULER\n",
    "(NAME varchar, SHEDULE varchar, DATE_BEGIN timestamp, DATE_END timestamp,\n",
    "constraint ID_NAME primary key(NAME, DATE_BEGIN),\n",
    "constraint date_check CHECK(DATE_BEGIN < DATE_END));\n",
    "\"\"\")\n"
   ]
  },
  {
   "cell_type": "code",
   "execution_count": 42,
   "metadata": {},
   "outputs": [],
   "source": [
    "sql.execute(\"\"\"COPY T_CONTRACTOR_SHERULER(name, shedule, date_begin, date_end) FROM 'E:\\\\Vakansy\\\\magnit\\\\shedulers.csv' DELIMITER ';' CSV HEADER;\"\"\")"
   ]
  },
  {
   "cell_type": "code",
   "execution_count": 43,
   "metadata": {},
   "outputs": [],
   "source": [
    "sql.execute(\"\"\"CREATE TABLE T_CONTRACTOR_WORK_DAY\n",
    "(ID int, NAME varchar, DATE_BEGIN timestamp, DATE_END timestamp);\"\"\")\n"
   ]
  },
  {
   "cell_type": "code",
   "execution_count": 44,
   "metadata": {},
   "outputs": [],
   "source": [
    "sql.execute(\"\"\"create or replace procedure inserter(NAME varchar, DATE_BEGIN timestamp, DATE_END timestamp)\n",
    "language plpgsql    \n",
    "as $$\n",
    "begin\n",
    "insert into T_CONTRACTOR_WORK_DAY (NAME, DATE_BEGIN, DATE_END)\n",
    "(select name, \n",
    "case when d='д' then date_begin+interval '8 hour' \n",
    "when d='с' then date_begin+interval '8 hour' \n",
    "when d='н' then date_begin+interval '20 hour'\n",
    "end as date_begin,\n",
    "case when d='д' then date_end+interval '20 hour'\n",
    "when d='с' then date_end+interval '32 hour' \n",
    "when d='н' then date_end+interval '32 hour'\n",
    "end as date_end\n",
    "from\n",
    "(select *\n",
    "from \n",
    "(select name, shedule, date_begin as date, d, row_number, date_begin+(row_number * interval'1 day') as date_begin, \n",
    "date_begin+(row_number * interval'1 day') as date_end  from \n",
    "(select name, shedule, date_begin, d, row_number () over (partition by shedule, name order by name) from \n",
    "(select name, shedule, date_begin, regexp_split_to_table(shedule, '\\s*') d from T_CONTRACTOR_SHERULER) as a1) \n",
    "as a2) as a3 \n",
    "where d!='в') as a4);\n",
    "commit;\n",
    "end;$$\"\"\")"
   ]
  },
  {
   "cell_type": "code",
   "execution_count": null,
   "metadata": {},
   "outputs": [],
   "source": []
  },
  {
   "cell_type": "code",
   "execution_count": null,
   "metadata": {},
   "outputs": [],
   "source": []
  },
  {
   "cell_type": "code",
   "execution_count": null,
   "metadata": {},
   "outputs": [],
   "source": []
  },
  {
   "cell_type": "code",
   "execution_count": null,
   "metadata": {},
   "outputs": [],
   "source": []
  }
 ],
 "metadata": {
  "kernelspec": {
   "display_name": "Python 3",
   "language": "python",
   "name": "python3"
  },
  "language_info": {
   "codemirror_mode": {
    "name": "ipython",
    "version": 3
   },
   "file_extension": ".py",
   "mimetype": "text/x-python",
   "name": "python",
   "nbconvert_exporter": "python",
   "pygments_lexer": "ipython3",
   "version": "3.7.6"
  }
 },
 "nbformat": 4,
 "nbformat_minor": 4
}
