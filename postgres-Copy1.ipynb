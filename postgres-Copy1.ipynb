{
 "cells": [
  {
   "cell_type": "code",
   "execution_count": 1,
   "metadata": {},
   "outputs": [],
   "source": [
    "import psycopg2\n",
    "import pandas as pd\n",
    "import pandas.io.sql as psql\n",
    "from sqlalchemy import create_engine\n",
    "import sql  # the patched version (file is named sql.py)\n",
    "from sqlalchemy import create_engine "
   ]
  },
  {
   "cell_type": "code",
   "execution_count": 2,
   "metadata": {},
   "outputs": [],
   "source": [
    "\n",
    "db1 = psycopg2.connect(dbname='postgres', user='postgres', \n",
    "                        password='1', host='localhost', port=5432)\n",
    "db = create_engine('postgresql+psycopg2://postgres:1@localhost:5432/postgres')\n",
    "sql = db1.cursor()"
   ]
  },
  {
   "cell_type": "code",
   "execution_count": 3,
   "metadata": {},
   "outputs": [],
   "source": [
    "df_trans=pd.read_csv('E:\\Vakansy\\magnit\\shedulers.csv')\n"
   ]
  },
  {
   "cell_type": "code",
   "execution_count": 4,
   "metadata": {},
   "outputs": [],
   "source": [
    "df_trans.to_sql('T_CONTRACTOR_SHERULER', con=db, index=False, if_exists='replace')"
   ]
  },
  {
   "cell_type": "code",
   "execution_count": 5,
   "metadata": {},
   "outputs": [],
   "source": [
    "sql.execute(\"\"\"CREATE TABLE T_CONTRACTOR_SHERULER\n",
    "(NAME varchar, SHEDULE varchar, DATE_BEGIN timestamp, DATE_END timestamp,\n",
    "constraint ID_NAME primary key(NAME, DATE_BEGIN),\n",
    "constraint date_check CHECK(DATE_BEGIN < DATE_END));\n",
    "\"\"\")\n"
   ]
  },
  {
   "cell_type": "code",
   "execution_count": 6,
   "metadata": {},
   "outputs": [],
   "source": [
    "sql.execute(\"\"\"COPY T_CONTRACTOR_SHERULER(name, shedule, date_begin, date_end) FROM 'E:\\\\Vakansy\\\\magnit\\\\shedulers.csv' DELIMITER ';' CSV HEADER;\"\"\")"
   ]
  },
  {
   "cell_type": "code",
   "execution_count": 7,
   "metadata": {},
   "outputs": [],
   "source": [
    "sql.execute(\"\"\"CREATE TABLE T_CONTRACTOR_WORK_DAY\n",
    "(ID int, NAME varchar, DATE_BEGIN timestamp, DATE_END timestamp);\"\"\")\n"
   ]
  },
  {
   "cell_type": "code",
   "execution_count": 8,
   "metadata": {},
   "outputs": [],
   "source": [
    "sql.execute(\"\"\"create or replace procedure inserter(NAME varchar, DATE_BEGIN timestamp, DATE_END timestamp)\n",
    "language plpgsql    \n",
    "as $$\n",
    "begin\n",
    "insert into T_CONTRACTOR_WORK_DAY (NAME, DATE_BEGIN, DATE_END)\n",
    "(select name, \n",
    "case when d='д' then date_begin+interval '8 hour' \n",
    "when d='с' then date_begin+interval '8 hour' \n",
    "when d='н' then date_begin+interval '20 hour'\n",
    "end as date_begin,\n",
    "case when d='д' then date_end+interval '20 hour'\n",
    "when d='с' then date_end+interval '32 hour' \n",
    "when d='н' then date_end+interval '32 hour'\n",
    "end as date_end\n",
    "from\n",
    "(select *\n",
    "from \n",
    "(select name, shedule, date_begin as date, d, row_number, date_begin+(row_number * interval'1 day') as date_begin, \n",
    "date_begin+(row_number * interval'1 day') as date_end  from \n",
    "(select name, shedule, date_begin, d, row_number () over (partition by shedule, name order by name) from \n",
    "(select name, shedule, date_begin, regexp_split_to_table(shedule, '\\s*') d from T_CONTRACTOR_SHERULER) as a1) \n",
    "as a2) as a3 \n",
    "where d!='в') as a4);\n",
    "commit;\n",
    "end;$$\"\"\")"
   ]
  },
  {
   "cell_type": "markdown",
   "metadata": {},
   "source": [
    "# 4 задание\n"
   ]
  },
  {
   "cell_type": "code",
   "execution_count": 9,
   "metadata": {},
   "outputs": [],
   "source": [
    "import records\n",
    "dtb = records.Database('postgresql+psycopg2://postgres:1@localhost:5432/T_CONTRACTOR_SHERULER')"
   ]
  },
  {
   "cell_type": "code",
   "execution_count": 10,
   "metadata": {},
   "outputs": [
    {
     "data": {
      "text/html": [
       "<div>\n",
       "<style scoped>\n",
       "    .dataframe tbody tr th:only-of-type {\n",
       "        vertical-align: middle;\n",
       "    }\n",
       "\n",
       "    .dataframe tbody tr th {\n",
       "        vertical-align: top;\n",
       "    }\n",
       "\n",
       "    .dataframe thead th {\n",
       "        text-align: right;\n",
       "    }\n",
       "</style>\n",
       "<table border=\"1\" class=\"dataframe\">\n",
       "  <thead>\n",
       "    <tr style=\"text-align: right;\">\n",
       "      <th></th>\n",
       "      <th>count</th>\n",
       "      <th>name</th>\n",
       "    </tr>\n",
       "  </thead>\n",
       "  <tbody>\n",
       "    <tr>\n",
       "      <th>0</th>\n",
       "      <td>3</td>\n",
       "      <td>Поставщик 2</td>\n",
       "    </tr>\n",
       "    <tr>\n",
       "      <th>1</th>\n",
       "      <td>4</td>\n",
       "      <td>Поставщик 3</td>\n",
       "    </tr>\n",
       "    <tr>\n",
       "      <th>2</th>\n",
       "      <td>3</td>\n",
       "      <td>Поставщик 1</td>\n",
       "    </tr>\n",
       "  </tbody>\n",
       "</table>\n",
       "</div>"
      ],
      "text/plain": [
       "   count         name\n",
       "0      3  Поставщик 2\n",
       "1      4  Поставщик 3\n",
       "2      3  Поставщик 1"
      ]
     },
     "execution_count": 10,
     "metadata": {},
     "output_type": "execute_result"
    }
   ],
   "source": [
    "dtb.query(\"\"\"select count(d), name\n",
    "from\n",
    "(select *\n",
    "from \n",
    "(select name, shedule, date_begin as date, d, row_number, date_begin+(row_number * interval'1 day') as date_begin, \n",
    "date_begin+(row_number * interval'1 day') as date_end  from \n",
    "(select name, shedule, date_begin, d, row_number () over (partition by shedule, name order by name) from \n",
    "(select name, shedule, date_begin, regexp_split_to_table(shedule, '\\s*') d from T_CONTRACTOR_SHERULER) as a1) \n",
    "as a2) as a3 \n",
    "where d!='в') as a4\n",
    "where d='д'\n",
    "group by name;\"\"\").export('df')"
   ]
  },
  {
   "cell_type": "code",
   "execution_count": 11,
   "metadata": {},
   "outputs": [
    {
     "data": {
      "text/html": [
       "<div>\n",
       "<style scoped>\n",
       "    .dataframe tbody tr th:only-of-type {\n",
       "        vertical-align: middle;\n",
       "    }\n",
       "\n",
       "    .dataframe tbody tr th {\n",
       "        vertical-align: top;\n",
       "    }\n",
       "\n",
       "    .dataframe thead th {\n",
       "        text-align: right;\n",
       "    }\n",
       "</style>\n",
       "<table border=\"1\" class=\"dataframe\">\n",
       "  <thead>\n",
       "    <tr style=\"text-align: right;\">\n",
       "      <th></th>\n",
       "      <th>name</th>\n",
       "      <th>count</th>\n",
       "    </tr>\n",
       "  </thead>\n",
       "  <tbody>\n",
       "    <tr>\n",
       "      <th>0</th>\n",
       "      <td>Поставщик 1</td>\n",
       "      <td>11</td>\n",
       "    </tr>\n",
       "    <tr>\n",
       "      <th>1</th>\n",
       "      <td>Поставщик 2</td>\n",
       "      <td>11</td>\n",
       "    </tr>\n",
       "  </tbody>\n",
       "</table>\n",
       "</div>"
      ],
      "text/plain": [
       "          name  count\n",
       "0  Поставщик 1     11\n",
       "1  Поставщик 2     11"
      ]
     },
     "execution_count": 11,
     "metadata": {},
     "output_type": "execute_result"
    }
   ],
   "source": [
    "dtb.query(\"\"\"select * from (select name, count(d)\n",
    "from\n",
    "(select *\n",
    "from \n",
    "(select name, shedule, date_begin as date, d, row_number, date_begin+(row_number * interval'1 day') as date_begin, \n",
    "date_begin+(row_number * interval'1 day') as date_end  from \n",
    "(select name, shedule, date_begin, d, row_number () over (partition by shedule, name order by name) from \n",
    "(select name, shedule, date_begin, regexp_split_to_table(shedule, '\\s*') d from T_CONTRACTOR_SHERULER) as a1) \n",
    "as a2) as a3 \n",
    "where d!='в') as a4\n",
    "where extract (month from date_begin)=1\n",
    "group by name) as a5\n",
    "where count>=10;\"\"\").export('df')"
   ]
  },
  {
   "cell_type": "code",
   "execution_count": 12,
   "metadata": {},
   "outputs": [
    {
     "data": {
      "text/html": [
       "<div>\n",
       "<style scoped>\n",
       "    .dataframe tbody tr th:only-of-type {\n",
       "        vertical-align: middle;\n",
       "    }\n",
       "\n",
       "    .dataframe tbody tr th {\n",
       "        vertical-align: top;\n",
       "    }\n",
       "\n",
       "    .dataframe thead th {\n",
       "        text-align: right;\n",
       "    }\n",
       "</style>\n",
       "<table border=\"1\" class=\"dataframe\">\n",
       "  <thead>\n",
       "    <tr style=\"text-align: right;\">\n",
       "      <th></th>\n",
       "      <th>name</th>\n",
       "    </tr>\n",
       "  </thead>\n",
       "  <tbody>\n",
       "    <tr>\n",
       "      <th>0</th>\n",
       "      <td>Поставщик 1</td>\n",
       "    </tr>\n",
       "    <tr>\n",
       "      <th>1</th>\n",
       "      <td>Поставщик 2</td>\n",
       "    </tr>\n",
       "  </tbody>\n",
       "</table>\n",
       "</div>"
      ],
      "text/plain": [
       "          name\n",
       "0  Поставщик 1\n",
       "1  Поставщик 2"
      ]
     },
     "execution_count": 12,
     "metadata": {},
     "output_type": "execute_result"
    }
   ],
   "source": [
    "dtb.query(\"\"\"select distinct(name) from\n",
    "(select *\n",
    "from \n",
    "(select name, shedule, date_begin as date, d, row_number, date_begin+(row_number * interval'1 day') as date_begin, \n",
    "date_begin+(row_number * interval'1 day') as date_end  from \n",
    "(select name, shedule, date_begin, d, row_number () over (partition by shedule, name order by name) from \n",
    "(select name, shedule, date_begin, regexp_split_to_table(shedule, '\\s*') d from T_CONTRACTOR_SHERULER) as a1) \n",
    "as a2) as a3 \n",
    "where d!='в') as a4\n",
    "where extract (month from date_begin)=1 and extract (day from date_begin) in (14, 15, 16)\"\"\").export('df')"
   ]
  },
  {
   "cell_type": "code",
   "execution_count": null,
   "metadata": {},
   "outputs": [],
   "source": []
  },
  {
   "cell_type": "code",
   "execution_count": null,
   "metadata": {},
   "outputs": [],
   "source": []
  }
 ],
 "metadata": {
  "kernelspec": {
   "display_name": "Python 3",
   "language": "python",
   "name": "python3"
  },
  "language_info": {
   "codemirror_mode": {
    "name": "ipython",
    "version": 3
   },
   "file_extension": ".py",
   "mimetype": "text/x-python",
   "name": "python",
   "nbconvert_exporter": "python",
   "pygments_lexer": "ipython3",
   "version": "3.7.6"
  }
 },
 "nbformat": 4,
 "nbformat_minor": 4
}
